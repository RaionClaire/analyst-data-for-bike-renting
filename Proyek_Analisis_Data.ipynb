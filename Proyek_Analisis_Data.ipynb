{
  "cells": [
    {
      "cell_type": "markdown",
      "metadata": {
        "id": "H9wADwK78DCz"
      },
      "source": [
        "# Proyek Analisis Data: Bike Sharing Dataset\n",
        "- **Nama:** Adinda Salsabila\n",
        "- **Email:** chacastastaria@gmail.com\n",
        "- **ID Dicoding:** adinda_salsabila"
      ]
    },
    {
      "cell_type": "markdown",
      "metadata": {
        "id": "eE0raob58DC0"
      },
      "source": [
        "## Menentukan Pertanyaan Bisnis"
      ]
    },
    {
      "cell_type": "markdown",
      "metadata": {
        "id": "GmQeQ5YF8DC0"
      },
      "source": [
        "- What is the relationship between different weather conditions and the demand for bike rentals?\n",
        "- Which season experiences the highest demand for bike rentals, and how can this inform advertising strategies?\n",
        "- To what extent do holidays influence the volume of bike rentals compared to regular days?"
      ]
    },
    {
      "cell_type": "markdown",
      "metadata": {
        "id": "H-z4QGlO8DC1"
      },
      "source": [
        "## Import Semua Packages/Library yang Digunakan"
      ]
    },
    {
      "cell_type": "code",
      "execution_count": 96,
      "metadata": {
        "id": "FVYwaObI8DC1"
      },
      "outputs": [],
      "source": [
        "import pandas as pd\n",
        "import matplotlib.pyplot as plt\n",
        "import numpy as np\n",
        "import seaborn as sns"
      ]
    },
    {
      "cell_type": "markdown",
      "metadata": {
        "id": "h_Sh51Xy8DC1"
      },
      "source": [
        "## Data Wrangling"
      ]
    },
    {
      "cell_type": "markdown",
      "metadata": {
        "id": "sXU2GBYu8DC1"
      },
      "source": [
        "### Gathering Data"
      ]
    },
    {
      "cell_type": "markdown",
      "metadata": {},
      "source": [
        "* Reading the data"
      ]
    },
    {
      "cell_type": "code",
      "execution_count": 97,
      "metadata": {
        "id": "zjCBk1BI8DC1"
      },
      "outputs": [
        {
          "data": {
            "text/html": [
              "<div>\n",
              "<style scoped>\n",
              "    .dataframe tbody tr th:only-of-type {\n",
              "        vertical-align: middle;\n",
              "    }\n",
              "\n",
              "    .dataframe tbody tr th {\n",
              "        vertical-align: top;\n",
              "    }\n",
              "\n",
              "    .dataframe thead th {\n",
              "        text-align: right;\n",
              "    }\n",
              "</style>\n",
              "<table border=\"1\" class=\"dataframe\">\n",
              "  <thead>\n",
              "    <tr style=\"text-align: right;\">\n",
              "      <th></th>\n",
              "      <th>instant</th>\n",
              "      <th>dteday</th>\n",
              "      <th>season</th>\n",
              "      <th>yr</th>\n",
              "      <th>mnth</th>\n",
              "      <th>holiday</th>\n",
              "      <th>weekday</th>\n",
              "      <th>workingday</th>\n",
              "      <th>weathersit</th>\n",
              "      <th>temp</th>\n",
              "      <th>atemp</th>\n",
              "      <th>hum</th>\n",
              "      <th>windspeed</th>\n",
              "      <th>casual</th>\n",
              "      <th>registered</th>\n",
              "      <th>cnt</th>\n",
              "    </tr>\n",
              "  </thead>\n",
              "  <tbody>\n",
              "    <tr>\n",
              "      <th>0</th>\n",
              "      <td>1</td>\n",
              "      <td>2011-01-01</td>\n",
              "      <td>1</td>\n",
              "      <td>0</td>\n",
              "      <td>1</td>\n",
              "      <td>0</td>\n",
              "      <td>6</td>\n",
              "      <td>0</td>\n",
              "      <td>2</td>\n",
              "      <td>0.344167</td>\n",
              "      <td>0.363625</td>\n",
              "      <td>0.805833</td>\n",
              "      <td>0.160446</td>\n",
              "      <td>331</td>\n",
              "      <td>654</td>\n",
              "      <td>985</td>\n",
              "    </tr>\n",
              "    <tr>\n",
              "      <th>1</th>\n",
              "      <td>2</td>\n",
              "      <td>2011-01-02</td>\n",
              "      <td>1</td>\n",
              "      <td>0</td>\n",
              "      <td>1</td>\n",
              "      <td>0</td>\n",
              "      <td>0</td>\n",
              "      <td>0</td>\n",
              "      <td>2</td>\n",
              "      <td>0.363478</td>\n",
              "      <td>0.353739</td>\n",
              "      <td>0.696087</td>\n",
              "      <td>0.248539</td>\n",
              "      <td>131</td>\n",
              "      <td>670</td>\n",
              "      <td>801</td>\n",
              "    </tr>\n",
              "    <tr>\n",
              "      <th>2</th>\n",
              "      <td>3</td>\n",
              "      <td>2011-01-03</td>\n",
              "      <td>1</td>\n",
              "      <td>0</td>\n",
              "      <td>1</td>\n",
              "      <td>0</td>\n",
              "      <td>1</td>\n",
              "      <td>1</td>\n",
              "      <td>1</td>\n",
              "      <td>0.196364</td>\n",
              "      <td>0.189405</td>\n",
              "      <td>0.437273</td>\n",
              "      <td>0.248309</td>\n",
              "      <td>120</td>\n",
              "      <td>1229</td>\n",
              "      <td>1349</td>\n",
              "    </tr>\n",
              "    <tr>\n",
              "      <th>3</th>\n",
              "      <td>4</td>\n",
              "      <td>2011-01-04</td>\n",
              "      <td>1</td>\n",
              "      <td>0</td>\n",
              "      <td>1</td>\n",
              "      <td>0</td>\n",
              "      <td>2</td>\n",
              "      <td>1</td>\n",
              "      <td>1</td>\n",
              "      <td>0.200000</td>\n",
              "      <td>0.212122</td>\n",
              "      <td>0.590435</td>\n",
              "      <td>0.160296</td>\n",
              "      <td>108</td>\n",
              "      <td>1454</td>\n",
              "      <td>1562</td>\n",
              "    </tr>\n",
              "    <tr>\n",
              "      <th>4</th>\n",
              "      <td>5</td>\n",
              "      <td>2011-01-05</td>\n",
              "      <td>1</td>\n",
              "      <td>0</td>\n",
              "      <td>1</td>\n",
              "      <td>0</td>\n",
              "      <td>3</td>\n",
              "      <td>1</td>\n",
              "      <td>1</td>\n",
              "      <td>0.226957</td>\n",
              "      <td>0.229270</td>\n",
              "      <td>0.436957</td>\n",
              "      <td>0.186900</td>\n",
              "      <td>82</td>\n",
              "      <td>1518</td>\n",
              "      <td>1600</td>\n",
              "    </tr>\n",
              "    <tr>\n",
              "      <th>5</th>\n",
              "      <td>6</td>\n",
              "      <td>2011-01-06</td>\n",
              "      <td>1</td>\n",
              "      <td>0</td>\n",
              "      <td>1</td>\n",
              "      <td>0</td>\n",
              "      <td>4</td>\n",
              "      <td>1</td>\n",
              "      <td>1</td>\n",
              "      <td>0.204348</td>\n",
              "      <td>0.233209</td>\n",
              "      <td>0.518261</td>\n",
              "      <td>0.089565</td>\n",
              "      <td>88</td>\n",
              "      <td>1518</td>\n",
              "      <td>1606</td>\n",
              "    </tr>\n",
              "    <tr>\n",
              "      <th>6</th>\n",
              "      <td>7</td>\n",
              "      <td>2011-01-07</td>\n",
              "      <td>1</td>\n",
              "      <td>0</td>\n",
              "      <td>1</td>\n",
              "      <td>0</td>\n",
              "      <td>5</td>\n",
              "      <td>1</td>\n",
              "      <td>2</td>\n",
              "      <td>0.196522</td>\n",
              "      <td>0.208839</td>\n",
              "      <td>0.498696</td>\n",
              "      <td>0.168726</td>\n",
              "      <td>148</td>\n",
              "      <td>1362</td>\n",
              "      <td>1510</td>\n",
              "    </tr>\n",
              "    <tr>\n",
              "      <th>7</th>\n",
              "      <td>8</td>\n",
              "      <td>2011-01-08</td>\n",
              "      <td>1</td>\n",
              "      <td>0</td>\n",
              "      <td>1</td>\n",
              "      <td>0</td>\n",
              "      <td>6</td>\n",
              "      <td>0</td>\n",
              "      <td>2</td>\n",
              "      <td>0.165000</td>\n",
              "      <td>0.162254</td>\n",
              "      <td>0.535833</td>\n",
              "      <td>0.266804</td>\n",
              "      <td>68</td>\n",
              "      <td>891</td>\n",
              "      <td>959</td>\n",
              "    </tr>\n",
              "    <tr>\n",
              "      <th>8</th>\n",
              "      <td>9</td>\n",
              "      <td>2011-01-09</td>\n",
              "      <td>1</td>\n",
              "      <td>0</td>\n",
              "      <td>1</td>\n",
              "      <td>0</td>\n",
              "      <td>0</td>\n",
              "      <td>0</td>\n",
              "      <td>1</td>\n",
              "      <td>0.138333</td>\n",
              "      <td>0.116175</td>\n",
              "      <td>0.434167</td>\n",
              "      <td>0.361950</td>\n",
              "      <td>54</td>\n",
              "      <td>768</td>\n",
              "      <td>822</td>\n",
              "    </tr>\n",
              "    <tr>\n",
              "      <th>9</th>\n",
              "      <td>10</td>\n",
              "      <td>2011-01-10</td>\n",
              "      <td>1</td>\n",
              "      <td>0</td>\n",
              "      <td>1</td>\n",
              "      <td>0</td>\n",
              "      <td>1</td>\n",
              "      <td>1</td>\n",
              "      <td>1</td>\n",
              "      <td>0.150833</td>\n",
              "      <td>0.150888</td>\n",
              "      <td>0.482917</td>\n",
              "      <td>0.223267</td>\n",
              "      <td>41</td>\n",
              "      <td>1280</td>\n",
              "      <td>1321</td>\n",
              "    </tr>\n",
              "    <tr>\n",
              "      <th>10</th>\n",
              "      <td>11</td>\n",
              "      <td>2011-01-11</td>\n",
              "      <td>1</td>\n",
              "      <td>0</td>\n",
              "      <td>1</td>\n",
              "      <td>0</td>\n",
              "      <td>2</td>\n",
              "      <td>1</td>\n",
              "      <td>2</td>\n",
              "      <td>0.169091</td>\n",
              "      <td>0.191464</td>\n",
              "      <td>0.686364</td>\n",
              "      <td>0.122132</td>\n",
              "      <td>43</td>\n",
              "      <td>1220</td>\n",
              "      <td>1263</td>\n",
              "    </tr>\n",
              "    <tr>\n",
              "      <th>11</th>\n",
              "      <td>12</td>\n",
              "      <td>2011-01-12</td>\n",
              "      <td>1</td>\n",
              "      <td>0</td>\n",
              "      <td>1</td>\n",
              "      <td>0</td>\n",
              "      <td>3</td>\n",
              "      <td>1</td>\n",
              "      <td>1</td>\n",
              "      <td>0.172727</td>\n",
              "      <td>0.160473</td>\n",
              "      <td>0.599545</td>\n",
              "      <td>0.304627</td>\n",
              "      <td>25</td>\n",
              "      <td>1137</td>\n",
              "      <td>1162</td>\n",
              "    </tr>\n",
              "    <tr>\n",
              "      <th>12</th>\n",
              "      <td>13</td>\n",
              "      <td>2011-01-13</td>\n",
              "      <td>1</td>\n",
              "      <td>0</td>\n",
              "      <td>1</td>\n",
              "      <td>0</td>\n",
              "      <td>4</td>\n",
              "      <td>1</td>\n",
              "      <td>1</td>\n",
              "      <td>0.165000</td>\n",
              "      <td>0.150883</td>\n",
              "      <td>0.470417</td>\n",
              "      <td>0.301000</td>\n",
              "      <td>38</td>\n",
              "      <td>1368</td>\n",
              "      <td>1406</td>\n",
              "    </tr>\n",
              "    <tr>\n",
              "      <th>13</th>\n",
              "      <td>14</td>\n",
              "      <td>2011-01-14</td>\n",
              "      <td>1</td>\n",
              "      <td>0</td>\n",
              "      <td>1</td>\n",
              "      <td>0</td>\n",
              "      <td>5</td>\n",
              "      <td>1</td>\n",
              "      <td>1</td>\n",
              "      <td>0.160870</td>\n",
              "      <td>0.188413</td>\n",
              "      <td>0.537826</td>\n",
              "      <td>0.126548</td>\n",
              "      <td>54</td>\n",
              "      <td>1367</td>\n",
              "      <td>1421</td>\n",
              "    </tr>\n",
              "    <tr>\n",
              "      <th>14</th>\n",
              "      <td>15</td>\n",
              "      <td>2011-01-15</td>\n",
              "      <td>1</td>\n",
              "      <td>0</td>\n",
              "      <td>1</td>\n",
              "      <td>0</td>\n",
              "      <td>6</td>\n",
              "      <td>0</td>\n",
              "      <td>2</td>\n",
              "      <td>0.233333</td>\n",
              "      <td>0.248112</td>\n",
              "      <td>0.498750</td>\n",
              "      <td>0.157963</td>\n",
              "      <td>222</td>\n",
              "      <td>1026</td>\n",
              "      <td>1248</td>\n",
              "    </tr>\n",
              "  </tbody>\n",
              "</table>\n",
              "</div>"
            ],
            "text/plain": [
              "    instant      dteday  season  yr  mnth  holiday  weekday  workingday  \\\n",
              "0         1  2011-01-01       1   0     1        0        6           0   \n",
              "1         2  2011-01-02       1   0     1        0        0           0   \n",
              "2         3  2011-01-03       1   0     1        0        1           1   \n",
              "3         4  2011-01-04       1   0     1        0        2           1   \n",
              "4         5  2011-01-05       1   0     1        0        3           1   \n",
              "5         6  2011-01-06       1   0     1        0        4           1   \n",
              "6         7  2011-01-07       1   0     1        0        5           1   \n",
              "7         8  2011-01-08       1   0     1        0        6           0   \n",
              "8         9  2011-01-09       1   0     1        0        0           0   \n",
              "9        10  2011-01-10       1   0     1        0        1           1   \n",
              "10       11  2011-01-11       1   0     1        0        2           1   \n",
              "11       12  2011-01-12       1   0     1        0        3           1   \n",
              "12       13  2011-01-13       1   0     1        0        4           1   \n",
              "13       14  2011-01-14       1   0     1        0        5           1   \n",
              "14       15  2011-01-15       1   0     1        0        6           0   \n",
              "\n",
              "    weathersit      temp     atemp       hum  windspeed  casual  registered  \\\n",
              "0            2  0.344167  0.363625  0.805833   0.160446     331         654   \n",
              "1            2  0.363478  0.353739  0.696087   0.248539     131         670   \n",
              "2            1  0.196364  0.189405  0.437273   0.248309     120        1229   \n",
              "3            1  0.200000  0.212122  0.590435   0.160296     108        1454   \n",
              "4            1  0.226957  0.229270  0.436957   0.186900      82        1518   \n",
              "5            1  0.204348  0.233209  0.518261   0.089565      88        1518   \n",
              "6            2  0.196522  0.208839  0.498696   0.168726     148        1362   \n",
              "7            2  0.165000  0.162254  0.535833   0.266804      68         891   \n",
              "8            1  0.138333  0.116175  0.434167   0.361950      54         768   \n",
              "9            1  0.150833  0.150888  0.482917   0.223267      41        1280   \n",
              "10           2  0.169091  0.191464  0.686364   0.122132      43        1220   \n",
              "11           1  0.172727  0.160473  0.599545   0.304627      25        1137   \n",
              "12           1  0.165000  0.150883  0.470417   0.301000      38        1368   \n",
              "13           1  0.160870  0.188413  0.537826   0.126548      54        1367   \n",
              "14           2  0.233333  0.248112  0.498750   0.157963     222        1026   \n",
              "\n",
              "     cnt  \n",
              "0    985  \n",
              "1    801  \n",
              "2   1349  \n",
              "3   1562  \n",
              "4   1600  \n",
              "5   1606  \n",
              "6   1510  \n",
              "7    959  \n",
              "8    822  \n",
              "9   1321  \n",
              "10  1263  \n",
              "11  1162  \n",
              "12  1406  \n",
              "13  1421  \n",
              "14  1248  "
            ]
          },
          "execution_count": 97,
          "metadata": {},
          "output_type": "execute_result"
        }
      ],
      "source": [
        "data_day = pd.read_csv('data/day.csv')\n",
        "data_day.head(15)"
      ]
    },
    {
      "cell_type": "markdown",
      "metadata": {
        "id": "MMi6xGaDkbCi"
      },
      "source": [
        "**Insight:**\n",
        "Dataset Characteristics (day.csv)\n",
        "\n",
        "- **instant**: Record index\n",
        "- **dteday**: Date of the record\n",
        "- **season**: Season (1: Spring, 2: Summer, 3: Fall, 4: Winter)\n",
        "- **yr**: Year (0: 2011, 1: 2012)\n",
        "- **mnth**: Month (from 1 to 12)\n",
        "- **holiday**: Indicates if the day is a holiday (1: Yes, 0: No)\n",
        "- **weekday**: Day of the week (0: Sunday, 6: Saturday)\n",
        "- **workingday**: 1 if it’s a workday (neither a holiday nor weekend)\n",
        "- **weathersit**: Weather condition:\n",
        "  - 1: Clear or partly cloudy\n",
        "  - 2: Misty or cloudy\n",
        "  - 3: Light snow or rain, thunderstorm\n",
        "  - 4: Heavy rain, snow, or fog\n",
        "- **temp**: Normalized temperature in Celsius (divided by 41)\n",
        "- **atemp**: Normalized \"feels like\" temperature in Celsius (divided by 50)\n",
        "- **hum**: Normalized humidity (divided by 100)\n",
        "- **windspeed**: Normalized wind speed (divided by 67)\n",
        "- **casual**: Number of casual users\n",
        "- **registered**: Number of registered users\n",
        "- **cnt**: Total number of bike rentals (casual + registered)    "
      ]
    },
    {
      "cell_type": "markdown",
      "metadata": {
        "id": "FHSiqaZp8DC1"
      },
      "source": [
        "### Assessing Data"
      ]
    },
    {
      "cell_type": "code",
      "execution_count": 98,
      "metadata": {
        "id": "ax-3tEjc9Cj1"
      },
      "outputs": [
        {
          "name": "stdout",
          "output_type": "stream",
          "text": [
            "Checking if there's missing value on data_day: \n"
          ]
        },
        {
          "data": {
            "text/plain": [
              "instant       0\n",
              "dteday        0\n",
              "season        0\n",
              "yr            0\n",
              "mnth          0\n",
              "holiday       0\n",
              "weekday       0\n",
              "workingday    0\n",
              "weathersit    0\n",
              "temp          0\n",
              "atemp         0\n",
              "hum           0\n",
              "windspeed     0\n",
              "casual        0\n",
              "registered    0\n",
              "cnt           0\n",
              "dtype: int64"
            ]
          },
          "execution_count": 98,
          "metadata": {},
          "output_type": "execute_result"
        }
      ],
      "source": [
        "# Check if there's missing value\n",
        "print(\"Checking if there's missing value on data_day: \")\n",
        "data_day.isnull().sum()"
      ]
    },
    {
      "cell_type": "code",
      "execution_count": 99,
      "metadata": {},
      "outputs": [
        {
          "name": "stdout",
          "output_type": "stream",
          "text": [
            "\n",
            "Data Types:\n",
            " instant         int64\n",
            "dteday         object\n",
            "season          int64\n",
            "yr              int64\n",
            "mnth            int64\n",
            "holiday         int64\n",
            "weekday         int64\n",
            "workingday      int64\n",
            "weathersit      int64\n",
            "temp          float64\n",
            "atemp         float64\n",
            "hum           float64\n",
            "windspeed     float64\n",
            "casual          int64\n",
            "registered      int64\n",
            "cnt             int64\n",
            "dtype: object\n"
          ]
        }
      ],
      "source": [
        "# Check the type of the data\n",
        "data_types = data_day.dtypes\n",
        "print(\"\\nData Types:\\n\", data_types)\n"
      ]
    },
    {
      "cell_type": "code",
      "execution_count": 100,
      "metadata": {},
      "outputs": [
        {
          "name": "stdout",
          "output_type": "stream",
          "text": [
            "Data Shape: (731, 16)\n"
          ]
        }
      ],
      "source": [
        "# Check the shape of the data\n",
        "print(f\"Data Shape: {data_day.shape}\")"
      ]
    },
    {
      "cell_type": "markdown",
      "metadata": {
        "id": "7dtxhAPrkhPL"
      },
      "source": [
        "**Insight:**\n",
        "- All columns are fully populated with no missing data, ensuring smooth analysis without data gaps.\n",
        "- The dataset consists of integers, floats, and objects. The `dteday` column is stored as an object and may need conversion to a datetime format for time-series analysis.\n",
        "- With 731 rows and 16 columns, the dataset represents daily records spanning approximately two years (2011-2012)."
      ]
    },
    {
      "cell_type": "markdown",
      "metadata": {
        "id": "EhN5R4hr8DC1"
      },
      "source": [
        "### Cleaning Data"
      ]
    },
    {
      "cell_type": "code",
      "execution_count": 101,
      "metadata": {
        "id": "jVnYpprE9Evz"
      },
      "outputs": [
        {
          "name": "stdout",
          "output_type": "stream",
          "text": [
            "Data Types after conversion:\n",
            " instant                int64\n",
            "dteday        datetime64[ns]\n",
            "season                 int64\n",
            "yr                     int64\n",
            "mnth                   int64\n",
            "holiday                int64\n",
            "weekday                int64\n",
            "workingday             int64\n",
            "weathersit             int64\n",
            "temp                 float64\n",
            "atemp                float64\n",
            "hum                  float64\n",
            "windspeed            float64\n",
            "casual                 int64\n",
            "registered             int64\n",
            "cnt                    int64\n",
            "dtype: object\n"
          ]
        }
      ],
      "source": [
        "# Convert 'dteday' to Datetime\n",
        "data_day['dteday'] = pd.to_datetime(data_day['dteday'])\n",
        "print(\"Data Types after conversion:\\n\", data_day.dtypes)"
      ]
    },
    {
      "cell_type": "markdown",
      "metadata": {
        "id": "Q_5ejIqckiSP"
      },
      "source": [
        "**Insight:**\n",
        "- Cause this data set have no missing value, so it's not necessary to impute the missing value.\n",
        "- The data set have no outlier, so it's not necessary to remove the outlier.\n",
        "- I convert dteday to date format, so further it can be used the date to predict the bike rental count."
      ]
    },
    {
      "cell_type": "markdown",
      "metadata": {
        "id": "gp-Y6wU38DC1"
      },
      "source": [
        "## Exploratory Data Analysis (EDA)"
      ]
    },
    {
      "cell_type": "markdown",
      "metadata": {
        "id": "MW7WF2kr8DC1"
      },
      "source": [
        "### Explore data_day"
      ]
    },
    {
      "cell_type": "markdown",
      "metadata": {},
      "source": [
        "* Summary Statistics"
      ]
    },
    {
      "cell_type": "code",
      "execution_count": 102,
      "metadata": {
        "id": "e9CQCZjk8DC2"
      },
      "outputs": [
        {
          "data": {
            "text/html": [
              "<div>\n",
              "<style scoped>\n",
              "    .dataframe tbody tr th:only-of-type {\n",
              "        vertical-align: middle;\n",
              "    }\n",
              "\n",
              "    .dataframe tbody tr th {\n",
              "        vertical-align: top;\n",
              "    }\n",
              "\n",
              "    .dataframe thead th {\n",
              "        text-align: right;\n",
              "    }\n",
              "</style>\n",
              "<table border=\"1\" class=\"dataframe\">\n",
              "  <thead>\n",
              "    <tr style=\"text-align: right;\">\n",
              "      <th></th>\n",
              "      <th>instant</th>\n",
              "      <th>dteday</th>\n",
              "      <th>season</th>\n",
              "      <th>yr</th>\n",
              "      <th>mnth</th>\n",
              "      <th>holiday</th>\n",
              "      <th>weekday</th>\n",
              "      <th>workingday</th>\n",
              "      <th>weathersit</th>\n",
              "      <th>temp</th>\n",
              "      <th>atemp</th>\n",
              "      <th>hum</th>\n",
              "      <th>windspeed</th>\n",
              "      <th>casual</th>\n",
              "      <th>registered</th>\n",
              "      <th>cnt</th>\n",
              "    </tr>\n",
              "  </thead>\n",
              "  <tbody>\n",
              "    <tr>\n",
              "      <th>count</th>\n",
              "      <td>731.000000</td>\n",
              "      <td>731</td>\n",
              "      <td>731.000000</td>\n",
              "      <td>731.000000</td>\n",
              "      <td>731.000000</td>\n",
              "      <td>731.000000</td>\n",
              "      <td>731.000000</td>\n",
              "      <td>731.000000</td>\n",
              "      <td>731.000000</td>\n",
              "      <td>731.000000</td>\n",
              "      <td>731.000000</td>\n",
              "      <td>731.000000</td>\n",
              "      <td>731.000000</td>\n",
              "      <td>731.000000</td>\n",
              "      <td>731.000000</td>\n",
              "      <td>731.000000</td>\n",
              "    </tr>\n",
              "    <tr>\n",
              "      <th>mean</th>\n",
              "      <td>366.000000</td>\n",
              "      <td>2012-01-01 00:00:00</td>\n",
              "      <td>2.496580</td>\n",
              "      <td>0.500684</td>\n",
              "      <td>6.519836</td>\n",
              "      <td>0.028728</td>\n",
              "      <td>2.997264</td>\n",
              "      <td>0.683995</td>\n",
              "      <td>1.395349</td>\n",
              "      <td>0.495385</td>\n",
              "      <td>0.474354</td>\n",
              "      <td>0.627894</td>\n",
              "      <td>0.190486</td>\n",
              "      <td>848.176471</td>\n",
              "      <td>3656.172367</td>\n",
              "      <td>4504.348837</td>\n",
              "    </tr>\n",
              "    <tr>\n",
              "      <th>min</th>\n",
              "      <td>1.000000</td>\n",
              "      <td>2011-01-01 00:00:00</td>\n",
              "      <td>1.000000</td>\n",
              "      <td>0.000000</td>\n",
              "      <td>1.000000</td>\n",
              "      <td>0.000000</td>\n",
              "      <td>0.000000</td>\n",
              "      <td>0.000000</td>\n",
              "      <td>1.000000</td>\n",
              "      <td>0.059130</td>\n",
              "      <td>0.079070</td>\n",
              "      <td>0.000000</td>\n",
              "      <td>0.022392</td>\n",
              "      <td>2.000000</td>\n",
              "      <td>20.000000</td>\n",
              "      <td>22.000000</td>\n",
              "    </tr>\n",
              "    <tr>\n",
              "      <th>25%</th>\n",
              "      <td>183.500000</td>\n",
              "      <td>2011-07-02 12:00:00</td>\n",
              "      <td>2.000000</td>\n",
              "      <td>0.000000</td>\n",
              "      <td>4.000000</td>\n",
              "      <td>0.000000</td>\n",
              "      <td>1.000000</td>\n",
              "      <td>0.000000</td>\n",
              "      <td>1.000000</td>\n",
              "      <td>0.337083</td>\n",
              "      <td>0.337842</td>\n",
              "      <td>0.520000</td>\n",
              "      <td>0.134950</td>\n",
              "      <td>315.500000</td>\n",
              "      <td>2497.000000</td>\n",
              "      <td>3152.000000</td>\n",
              "    </tr>\n",
              "    <tr>\n",
              "      <th>50%</th>\n",
              "      <td>366.000000</td>\n",
              "      <td>2012-01-01 00:00:00</td>\n",
              "      <td>3.000000</td>\n",
              "      <td>1.000000</td>\n",
              "      <td>7.000000</td>\n",
              "      <td>0.000000</td>\n",
              "      <td>3.000000</td>\n",
              "      <td>1.000000</td>\n",
              "      <td>1.000000</td>\n",
              "      <td>0.498333</td>\n",
              "      <td>0.486733</td>\n",
              "      <td>0.626667</td>\n",
              "      <td>0.180975</td>\n",
              "      <td>713.000000</td>\n",
              "      <td>3662.000000</td>\n",
              "      <td>4548.000000</td>\n",
              "    </tr>\n",
              "    <tr>\n",
              "      <th>75%</th>\n",
              "      <td>548.500000</td>\n",
              "      <td>2012-07-01 12:00:00</td>\n",
              "      <td>3.000000</td>\n",
              "      <td>1.000000</td>\n",
              "      <td>10.000000</td>\n",
              "      <td>0.000000</td>\n",
              "      <td>5.000000</td>\n",
              "      <td>1.000000</td>\n",
              "      <td>2.000000</td>\n",
              "      <td>0.655417</td>\n",
              "      <td>0.608602</td>\n",
              "      <td>0.730209</td>\n",
              "      <td>0.233214</td>\n",
              "      <td>1096.000000</td>\n",
              "      <td>4776.500000</td>\n",
              "      <td>5956.000000</td>\n",
              "    </tr>\n",
              "    <tr>\n",
              "      <th>max</th>\n",
              "      <td>731.000000</td>\n",
              "      <td>2012-12-31 00:00:00</td>\n",
              "      <td>4.000000</td>\n",
              "      <td>1.000000</td>\n",
              "      <td>12.000000</td>\n",
              "      <td>1.000000</td>\n",
              "      <td>6.000000</td>\n",
              "      <td>1.000000</td>\n",
              "      <td>3.000000</td>\n",
              "      <td>0.861667</td>\n",
              "      <td>0.840896</td>\n",
              "      <td>0.972500</td>\n",
              "      <td>0.507463</td>\n",
              "      <td>3410.000000</td>\n",
              "      <td>6946.000000</td>\n",
              "      <td>8714.000000</td>\n",
              "    </tr>\n",
              "    <tr>\n",
              "      <th>std</th>\n",
              "      <td>211.165812</td>\n",
              "      <td>NaN</td>\n",
              "      <td>1.110807</td>\n",
              "      <td>0.500342</td>\n",
              "      <td>3.451913</td>\n",
              "      <td>0.167155</td>\n",
              "      <td>2.004787</td>\n",
              "      <td>0.465233</td>\n",
              "      <td>0.544894</td>\n",
              "      <td>0.183051</td>\n",
              "      <td>0.162961</td>\n",
              "      <td>0.142429</td>\n",
              "      <td>0.077498</td>\n",
              "      <td>686.622488</td>\n",
              "      <td>1560.256377</td>\n",
              "      <td>1937.211452</td>\n",
              "    </tr>\n",
              "  </tbody>\n",
              "</table>\n",
              "</div>"
            ],
            "text/plain": [
              "          instant               dteday      season          yr        mnth  \\\n",
              "count  731.000000                  731  731.000000  731.000000  731.000000   \n",
              "mean   366.000000  2012-01-01 00:00:00    2.496580    0.500684    6.519836   \n",
              "min      1.000000  2011-01-01 00:00:00    1.000000    0.000000    1.000000   \n",
              "25%    183.500000  2011-07-02 12:00:00    2.000000    0.000000    4.000000   \n",
              "50%    366.000000  2012-01-01 00:00:00    3.000000    1.000000    7.000000   \n",
              "75%    548.500000  2012-07-01 12:00:00    3.000000    1.000000   10.000000   \n",
              "max    731.000000  2012-12-31 00:00:00    4.000000    1.000000   12.000000   \n",
              "std    211.165812                  NaN    1.110807    0.500342    3.451913   \n",
              "\n",
              "          holiday     weekday  workingday  weathersit        temp       atemp  \\\n",
              "count  731.000000  731.000000  731.000000  731.000000  731.000000  731.000000   \n",
              "mean     0.028728    2.997264    0.683995    1.395349    0.495385    0.474354   \n",
              "min      0.000000    0.000000    0.000000    1.000000    0.059130    0.079070   \n",
              "25%      0.000000    1.000000    0.000000    1.000000    0.337083    0.337842   \n",
              "50%      0.000000    3.000000    1.000000    1.000000    0.498333    0.486733   \n",
              "75%      0.000000    5.000000    1.000000    2.000000    0.655417    0.608602   \n",
              "max      1.000000    6.000000    1.000000    3.000000    0.861667    0.840896   \n",
              "std      0.167155    2.004787    0.465233    0.544894    0.183051    0.162961   \n",
              "\n",
              "              hum   windspeed       casual   registered          cnt  \n",
              "count  731.000000  731.000000   731.000000   731.000000   731.000000  \n",
              "mean     0.627894    0.190486   848.176471  3656.172367  4504.348837  \n",
              "min      0.000000    0.022392     2.000000    20.000000    22.000000  \n",
              "25%      0.520000    0.134950   315.500000  2497.000000  3152.000000  \n",
              "50%      0.626667    0.180975   713.000000  3662.000000  4548.000000  \n",
              "75%      0.730209    0.233214  1096.000000  4776.500000  5956.000000  \n",
              "max      0.972500    0.507463  3410.000000  6946.000000  8714.000000  \n",
              "std      0.142429    0.077498   686.622488  1560.256377  1937.211452  "
            ]
          },
          "execution_count": 102,
          "metadata": {},
          "output_type": "execute_result"
        }
      ],
      "source": [
        "# Display summary statistics\n",
        "data_day.describe()"
      ]
    },
    {
      "cell_type": "markdown",
      "metadata": {
        "id": "th_Lzl2Fkj9O"
      },
      "source": [
        "**Insight:**\n",
        "-The data_day.describe() function provides a summary of the statistical characteristics of the dataset data_day."
      ]
    },
    {
      "cell_type": "markdown",
      "metadata": {
        "id": "zsyZjqak8DC2"
      },
      "source": [
        "## Visualization & Explanatory Analysis"
      ]
    },
    {
      "cell_type": "markdown",
      "metadata": {},
      "source": [
        "### Question 1: What is the relationship between different weather conditions and the demand for bike rentals?\n"
      ]
    },
    {
      "cell_type": "code",
      "execution_count": 103,
      "metadata": {},
      "outputs": [
        {
          "data": {
            "image/png": "[encoded data removed]",
            "text/plain": [
              "<Figure size 1000x600 with 1 Axes>"
            ]
          },
          "metadata": {},
          "output_type": "display_data"
        }
      ],
      "source": [
        "# Create a mapping for the 'weathersit' descriptions\n",
        "weather_labels = {\n",
        "    1: 'Clear, Few clouds, Partly cloudy',\n",
        "    2: 'Mist + Cloudy, Broken clouds',\n",
        "    3: 'Light Snow, Light Rain + Thunderstorm',\n",
        "    4: 'Heavy Rain + Ice, Snow + Fog'\n",
        "}\n",
        "\n",
        "# Map the weathersit column to these labels\n",
        "data_day['weathersit_desc'] = data_day['weathersit'].map(weather_labels)\n",
        "\n",
        "# Set the style for the plot\n",
        "sns.set(style=\"whitegrid\")\n",
        "\n",
        "# Create the bar plot for weathersit vs bike rentals\n",
        "plt.figure(figsize=(10, 6))\n",
        "sns.barplot(x='weathersit_desc', y='cnt', data=data_day, hue='weathersit_desc', palette='inferno')\n",
        "\n",
        "# Add labels and title\n",
        "plt.title('Weather Situation vs Bike Rentals')\n",
        "plt.xlabel('Weather Situation')\n",
        "plt.ylabel('Total Rentals')\n",
        "\n",
        "# Rotate x labels for better readability\n",
        "plt.xticks(rotation=15)\n",
        "\n",
        "# Display the plot\n",
        "plt.show()"
      ]
    },
    {
      "cell_type": "markdown",
      "metadata": {},
      "source": [
        "**Insight:**\n",
        "- Best weather situation which have the most bikes rented is during clear, few clouds, partly cloudy, partly cloudy, next continued by Mist + Cloudy and broken clouds, continued by light snow, light rain + thunderstorm.\n",
        "- No records bikes rented during Heavy Rain + Ice and Snow + Fog"
      ]
    },
    {
      "cell_type": "markdown",
      "metadata": {
        "id": "HZxOiQ6n8DC2"
      },
      "source": [
        "### Question 2: Which season experiences the highest demand for bike rentals, and how can this inform advertising strategies?\n",
        "\n"
      ]
    },
    {
      "cell_type": "code",
      "execution_count": 104,
      "metadata": {
        "id": "1swJUdAD8DC2"
      },
      "outputs": [
        {
          "data": {
            "image/png": "[encoded data removed]",
            "text/plain": [
              "<Figure size 800x600 with 1 Axes>"
            ]
          },
          "metadata": {},
          "output_type": "display_data"
        }
      ],
      "source": [
        "# Create a mapping for the 'season' descriptions\n",
        "season_labels = {\n",
        "    1: 'Spring',\n",
        "    2: 'Summer',\n",
        "    3: 'Fall',\n",
        "    4: 'Winter'\n",
        "}\n",
        "\n",
        "# Map the season column to these labels\n",
        "data_day['season_desc'] = data_day['season'].map(season_labels)\n",
        "\n",
        "# Set the style for the plot\n",
        "sns.set(style=\"whitegrid\")\n",
        "\n",
        "# Create the bar plot for season vs bike rentals\n",
        "plt.figure(figsize=(8, 6))\n",
        "sns.barplot(x='season_desc', y='cnt', data=data_day, hue='season_desc', palette='magma')\n",
        "\n",
        "# Add labels and title\n",
        "plt.title('Bike Rentals by Season')\n",
        "plt.xlabel('Season')\n",
        "plt.ylabel('Total Rentals')\n",
        "\n",
        "# Display the plot\n",
        "plt.show()"
      ]
    },
    {
      "cell_type": "markdown",
      "metadata": {},
      "source": [
        "**INSIGHTS:**\n",
        "- Fall have most bikes rented on\n",
        "- Spring have most low bikes rented on\n",
        "-  Prioritize marketing efforts during the fall season to increase bike rentals even more"
      ]
    },
    {
      "cell_type": "markdown",
      "metadata": {},
      "source": [
        "With that, we can determine how weather in every seasons affects bike sharing count."
      ]
    },
    {
      "cell_type": "code",
      "execution_count": 105,
      "metadata": {},
      "outputs": [
        {
          "data": {
            "image/png": "[encoded data removed]",
            "text/plain": [
              "<Figure size 1200x600 with 1 Axes>"
            ]
          },
          "metadata": {},
          "output_type": "display_data"
        }
      ],
      "source": [
        "# Set the style for the plot\n",
        "sns.set(style=\"whitegrid\")\n",
        "\n",
        "# Calculate total rentals grouped by season and weather situation\n",
        "season_weather_data = data_day.groupby(['season', 'weathersit_desc'])['cnt'].sum().reset_index()\n",
        "\n",
        "# Create the bar plot\n",
        "plt.figure(figsize=(12, 6))\n",
        "sns.barplot(x='season', y='cnt', hue='weathersit_desc', data=season_weather_data, palette='spring')\n",
        "\n",
        "# Add labels and title\n",
        "plt.title('Total Bike Rentals by Season and Weather Situation')\n",
        "plt.xlabel('Season')\n",
        "plt.ylabel('Total Rentals')\n",
        "plt.legend(title='Weather Situation')\n",
        "\n",
        "# Display the plot\n",
        "plt.show()\n"
      ]
    },
    {
      "cell_type": "markdown",
      "metadata": {},
      "source": [
        "**Insight:**\n",
        "- This plot shows the distribution of bike rentals by season and weather situation. It shows that the bike rentals are more popular during the fall months, with the highest number of bike rentals during the clear/few clouds/partly clouds in fall. "
      ]
    },
    {
      "cell_type": "markdown",
      "metadata": {
        "id": "DgHI7CiU8DC2"
      },
      "source": [
        "### Question 3: To what extent do holidays influence the volume of bike rentals compared to regular days?"
      ]
    },
    {
      "cell_type": "code",
      "execution_count": 106,
      "metadata": {
        "id": "Go0lCsvO8DC2"
      },
      "outputs": [
        {
          "data": {
            "text/plain": [
              "Text(0, 0.5, 'Total Rentals')"
            ]
          },
          "execution_count": 106,
          "metadata": {},
          "output_type": "execute_result"
        },
        {
          "data": {
            "image/png": "[encoded data removed]",
            "text/plain": [
              "<Figure size 1200x500 with 1 Axes>"
            ]
          },
          "metadata": {},
          "output_type": "display_data"
        }
      ],
      "source": [
        "# Set plot style\n",
        "sns.set(style=\"whitegrid\")\n",
        "\n",
        "# Step 2: Holiday impact on bike rentals\n",
        "plt.figure(figsize=(12, 5))\n",
        "\n",
        "# Holiday vs Non-holiday\n",
        "plt.subplot(1, 2, 1)\n",
        "sns.barplot(x='holiday', y='cnt', data=data_day, hue='holiday', palette='PiYG')\n",
        "plt.title('Bike Rentals on Holidays vs Non-Holidays')\n",
        "plt.xlabel('Holiday (0 = No, 1 = Yes)')\n",
        "plt.ylabel('Total Rentals')"
      ]
    },
    {
      "cell_type": "markdown",
      "metadata": {
        "id": "_0-36BDLklRg"
      },
      "source": [
        "**Insight:**\n",
        "- Comparing the total bike rentals on holidays (where holiday = 1) versus non-holidays (where holiday = 0).\n",
        "-  The total rentals on holidays are significantly higher than on non-holidays, it suggests that people are more likely to rent bikes during these times, potentially due to more leisure activities or events happening."
      ]
    },
    {
      "cell_type": "markdown",
      "metadata": {
        "id": "9y4VUsmcYNZ5"
      },
      "source": [
        "## Analisis Lanjutan (Opsional)"
      ]
    },
    {
      "cell_type": "markdown",
      "metadata": {},
      "source": [
        "## Seasonal Clustering of Bike Rentals"
      ]
    },
    {
      "cell_type": "code",
      "execution_count": 107,
      "metadata": {
        "id": "iWhnzsJGYUCO"
      },
      "outputs": [],
      "source": [
        "#Aggregate Rentals by Season\n",
        "seasonal_rentals = data_day.groupby('season_desc')['cnt'].sum().reset_index()\n",
        "seasonal_rentals.columns = ['Season', 'Total Rentals']"
      ]
    },
    {
      "cell_type": "code",
      "execution_count": 108,
      "metadata": {},
      "outputs": [],
      "source": [
        "#Define rentals treshold\n",
        "high_threshold = seasonal_rentals['Total Rentals'].quantile(0.75)  \n",
        "low_threshold = seasonal_rentals['Total Rentals'].quantile(0.25) \n"
      ]
    },
    {
      "cell_type": "code",
      "execution_count": 109,
      "metadata": {},
      "outputs": [],
      "source": [
        "# Define rentals treshold\n",
        "seasonal_rentals['Rental Category'] = np.where(\n",
        "    seasonal_rentals['Total Rentals'] >= high_threshold, 'High Rental Season',\n",
        "    np.where(seasonal_rentals['Total Rentals'] <= low_threshold, 'Low Rental Season', 'Moderate Rental Season')\n",
        ")"
      ]
    },
    {
      "cell_type": "code",
      "execution_count": 110,
      "metadata": {},
      "outputs": [
        {
          "data": {
            "image/png": "[encoded data removed]",
            "text/plain": [
              "<Figure size 1000x600 with 1 Axes>"
            ]
          },
          "metadata": {},
          "output_type": "display_data"
        }
      ],
      "source": [
        "#Visualizing the clusters\n",
        "plt.figure(figsize=(10, 6))  # Optional: Set figure size\n",
        "sns.barplot(x='Season', y='Total Rentals', hue='Rental Category', data=seasonal_rentals, palette='Spectral')\n",
        "plt.title('Seasonal Clustering of Bike Rentals')\n",
        "plt.xlabel('Season')\n",
        "plt.ylabel('Total Rentals')\n",
        "plt.legend(title='Rental Category')\n",
        "plt.show()"
      ]
    },
    {
      "cell_type": "markdown",
      "metadata": {},
      "source": [
        "**Insight:**\n",
        "- Based on the chart, Fall is clustered as 'High Rental Season'\n",
        "- Spring are clustered as 'Low Rental Season'\n",
        "- Winter and Summer are clustered as 'Moderate Rental Season'"
      ]
    },
    {
      "cell_type": "markdown",
      "metadata": {
        "id": "_WeHlCeX8DC2"
      },
      "source": [
        "## Conclusion"
      ]
    },
    {
      "cell_type": "markdown",
      "metadata": {
        "id": "ZTcyR48Y8DC2"
      },
      "source": [
        "### Conclusion Question 1: What is the relationship between different weather conditions and the demand for bike rentals?\n",
        "\n",
        "The analysis of bike rental demand reveals several key insights related to weather conditions. Optimal weather conditions occur during clear, few clouds, or partly cloudy weather, which encourages outdoor activities and presents an ideal opportunity to promote rentals. In contrast, moderate demand conditions are observed during misty and cloudy weather, where bike usage remains supported despite less favorable conditions. However, during challenging conditions, such as light snow, light rain, and thunderstorms, there is a noticeable decline in rentals, indicating reduced interest, although biking does not cease entirely. Finally, severe weather impacts are significant, as no rentals are recorded during heavy rain, ice, or fog, underscoring that severe weather deters customers and leads to no demand for bike rentals.\n",
        "\n",
        "\n",
        "\n",
        "### Conclusion Question 2: Which season experiences the highest demand for bike rentals, and how can this inform advertising strategies?\n",
        "Fall experiences the highest bike rentals, while spring shows the lowest demand.Focus marketing efforts during the fall season to capitalize on this trend leveraging promotional campaigns and targeted advertising to maximize bike rental opportunities.\n",
        "\n",
        "\n",
        "### Conclusion Question 3: To what extent do holidays influence the volume of bike rentals compared to regular days?\n",
        "This indicates a clear trend: people are more likely to rent bikes during holidays, driven by increased leisure activities and events. To maximize revenue, rental companies should implement targeted promotions and advertising campaigns during holiday periods, strategically highlighting bike rentals as an appealing option for leisure outings.\n",
        "\n",
        "\n",
        "### Conclusion Analisis Lanjutan: Simple Clustering Rentals by Season\n",
        "This clustered by 3, which is High rental season, low rental season and moderate rental season. Fall is considered as the high rental season.Winter and summer are clustered as the moderate rental season, while spring is considered as low rental season.\n"
      ]
    }
  ],
  "metadata": {
    "colab": {
      "provenance": []
    },
    "kernelspec": {
      "display_name": "Python 3",
      "language": "python",
      "name": "python3"
    },
    "language_info": {
      "codemirror_mode": {
        "name": "ipython",
        "version": 3
      },
      "file_extension": ".py",
      "mimetype": "text/x-python",
      "name": "python",
      "nbconvert_exporter": "python",
      "pygments_lexer": "ipython3",
      "version": "3.12.3"
    },
    "orig_nbformat": 4
  },
  "nbformat": 4,
  "nbformat_minor": 0
}
